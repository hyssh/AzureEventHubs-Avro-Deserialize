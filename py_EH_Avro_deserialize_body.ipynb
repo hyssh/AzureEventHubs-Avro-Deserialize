{
  "cells": [
    {
      "cell_type": "markdown",
      "source": [
        "# Event Hub Avro desirialization\r\n",
        "\r\n",
        "hyssh@microsoft.com\r\n"
      ],
      "metadata": {
        "nteract": {
          "transient": {
            "deleting": false
          }
        }
      }
    },
    {
      "cell_type": "markdown",
      "source": [
        "## Reference code sample \r\n",
        "\r\n",
        "Ref 1: https://stackoverflow.com/questions/72417454/azure-schema-registry-spark-structured-streaming-kafka-eventhub-compatibilit\r\n",
        "\r\n",
        "Ref 2: https://spark.apache.org/docs/latest/sql-data-sources-avro.html#to_avro-and-from_avro"
      ],
      "metadata": {
        "nteract": {
          "transient": {
            "deleting": false
          }
        }
      }
    },
    {
      "cell_type": "code",
      "source": [
        "import os\r\n",
        "\r\n",
        "from azure.identity import DefaultAzureCredential\r\n",
        "\r\n",
        "# from azure.eventhub import EventHubConsumerClient\r\n",
        "from azure.schemaregistry import SchemaRegistryClient\r\n",
        "from azure.schemaregistry.serializer.avroserializer import AvroSerializer\r\n",
        "\r\n",
        "\r\n",
        "# from pyspark.sql.avro.functions import from_avro, to_avro\r\n"
      ],
      "outputs": [
        {
          "output_type": "display_data",
          "data": {
            "application/vnd.livy.statement-meta+json": {
              "spark_pool": "sparkpool3",
              "session_id": "16",
              "statement_id": 1,
              "state": "finished",
              "livy_statement_state": "available",
              "queued_time": "2022-10-14T20:18:10.4894776Z",
              "session_start_time": "2022-10-14T20:18:10.5444131Z",
              "execution_start_time": "2022-10-14T20:19:06.3457625Z",
              "execution_finish_time": "2022-10-14T20:19:07.4852001Z",
              "spark_jobs": null
            },
            "text/plain": "StatementMeta(sparkpool3, 16, 1, Finished, Available)"
          },
          "metadata": {}
        }
      ],
      "execution_count": 1,
      "metadata": {
        "jupyter": {
          "source_hidden": false,
          "outputs_hidden": false
        },
        "nteract": {
          "transient": {
            "deleting": false
          }
        }
      }
    },
    {
      "cell_type": "markdown",
      "source": [
        "## Get Environment variables\r\n",
        "\r\n",
        "Get the variables from [Spark configuration](https://learn.microsoft.com/en-us/azure/synapse-analytics/spark/apache-spark-azure-create-spark-configuration)"
      ],
      "metadata": {
        "nteract": {
          "transient": {
            "deleting": false
          }
        }
      }
    },
    {
      "cell_type": "code",
      "source": [
        "os.environ[\"AZURE_CLIENT_ID\"] = spark.sparkContext.environment.get(\"AZURE_CLIENT_ID\")\r\n",
        "os.environ[\"AZURE_TENANT_ID\"] = spark.sparkContext.environment.get(\"AZURE_TENANT_ID\")\r\n",
        "os.environ[\"AZURE_CLIENT_SECRET\"] = spark.sparkContext.environment.get(\"AZURE_CLIENT_SECRET\")\r\n",
        "os.environ[\"EVENT_HUB_CONN_STR\"] = spark.sparkContext.environment.get(\"EVENT_HUB_CONN_STR\")\r\n",
        "os.environ[\"EVENT_HUB_CONN_STR_ENT\"] = spark.sparkContext.environment.get(\"EVENT_HUB_CONN_STR_ENT\")\r\n",
        "os.environ[\"EVENT_HUB_CONN_STR_LISTEN\"] = spark.sparkContext.environment.get(\"EVENT_HUB_CONN_STR_LISTEN\")\r\n",
        "\r\n",
        "SCHEMAREGISTRY_FULLY_QUALIFIED_NAMESPACE = \"shin-eventhub-ns.servicebus.windows.net\"\r\n",
        "EVENTHUB_NAME=\"transactions\"\r\n"
      ],
      "outputs": [
        {
          "output_type": "display_data",
          "data": {
            "application/vnd.livy.statement-meta+json": {
              "spark_pool": "sparkpool3",
              "session_id": "16",
              "statement_id": 2,
              "state": "finished",
              "livy_statement_state": "available",
              "queued_time": "2022-10-14T20:18:10.4908312Z",
              "session_start_time": null,
              "execution_start_time": "2022-10-14T20:19:07.6183088Z",
              "execution_finish_time": "2022-10-14T20:19:07.8552265Z",
              "spark_jobs": null
            },
            "text/plain": "StatementMeta(sparkpool3, 16, 2, Finished, Available)"
          },
          "metadata": {}
        }
      ],
      "execution_count": 2,
      "metadata": {
        "jupyter": {
          "source_hidden": false,
          "outputs_hidden": false
        },
        "nteract": {
          "transient": {
            "deleting": false
          }
        }
      }
    },
    {
      "cell_type": "markdown",
      "source": [
        "## Define connection string"
      ],
      "metadata": {
        "nteract": {
          "transient": {
            "deleting": false
          }
        }
      }
    },
    {
      "cell_type": "code",
      "source": [
        "ehConf = {}\r\n",
        "\r\n",
        "# For versions before 2.3.15, set the connection string without encryption\r\n",
        "# ehConf['eventhubs.connectionString'] = os.environ[\"EVENT_HUB_CONN_STR\"]\r\n",
        "\r\n",
        "# For 2.3.15 version and above, the configuration dictionary requires that connection string be encrypted.\r\n",
        "ehConf['eventhubs.connectionString'] = sc._jvm.org.apache.spark.eventhubs.EventHubsUtils.encrypt(os.environ[\"EVENT_HUB_CONN_STR_ENT\"])\r\n",
        "\r\n",
        "# Confrim the consumer group from Event Hub\r\n",
        "# https://learn.microsoft.com/en-us/azure/event-hubs/event-hubs-features#consumer-groups\r\n",
        "ehConf['eventhubs.consumerGroup'] = \"spark\""
      ],
      "outputs": [
        {
          "output_type": "display_data",
          "data": {
            "application/vnd.livy.statement-meta+json": {
              "spark_pool": "sparkpool3",
              "session_id": "16",
              "statement_id": 3,
              "state": "finished",
              "livy_statement_state": "available",
              "queued_time": "2022-10-14T20:18:10.494119Z",
              "session_start_time": null,
              "execution_start_time": "2022-10-14T20:19:07.9959916Z",
              "execution_finish_time": "2022-10-14T20:19:08.2484923Z",
              "spark_jobs": null
            },
            "text/plain": "StatementMeta(sparkpool3, 16, 3, Finished, Available)"
          },
          "metadata": {}
        }
      ],
      "execution_count": 3,
      "metadata": {
        "jupyter": {
          "source_hidden": false,
          "outputs_hidden": false
        },
        "nteract": {
          "transient": {
            "deleting": false
          }
        }
      }
    },
    {
      "cell_type": "markdown",
      "source": [
        "## Create UDF\r\n",
        "\r\n",
        "Create a UDF to desrialize Avro message using Avro Serializer that supported SchemaRegistry"
      ],
      "metadata": {
        "nteract": {
          "transient": {
            "deleting": false
          }
        }
      }
    },
    {
      "cell_type": "code",
      "source": [
        "from pyspark.sql.types import StringType\r\n",
        "from pyspark.sql.functions import udf\r\n",
        "\r\n",
        "def deserializeBody(encodedBody):    \r\n",
        "\r\n",
        "    token_credential = DefaultAzureCredential()\r\n",
        "\r\n",
        "    schema_registry_client = SchemaRegistryClient(\"shin-eventhub-ns.servicebus.windows.net\", token_credential)\r\n",
        "    avro_serializer = AvroSerializer(client=schema_registry_client, group_name=\"tranxs\")\r\n",
        "\r\n",
        "    return avro_serializer.deserialize(encodedBody)\r\n",
        "\r\n",
        "deserializedBody_udf = udf(deserializeBody, StringType())"
      ],
      "outputs": [
        {
          "output_type": "display_data",
          "data": {
            "application/vnd.livy.statement-meta+json": {
              "spark_pool": "sparkpool3",
              "session_id": "16",
              "statement_id": 4,
              "state": "finished",
              "livy_statement_state": "available",
              "queued_time": "2022-10-14T20:18:10.495838Z",
              "session_start_time": null,
              "execution_start_time": "2022-10-14T20:19:08.3828948Z",
              "execution_finish_time": "2022-10-14T20:19:08.5629985Z",
              "spark_jobs": null
            },
            "text/plain": "StatementMeta(sparkpool3, 16, 4, Finished, Available)"
          },
          "metadata": {}
        }
      ],
      "execution_count": 4,
      "metadata": {
        "jupyter": {
          "source_hidden": false,
          "outputs_hidden": false
        },
        "nteract": {
          "transient": {
            "deleting": false
          }
        }
      }
    },
    {
      "cell_type": "markdown",
      "source": [
        "## (Optional test) Get schema from schema SchemaRegistry\r\n"
      ],
      "metadata": {
        "nteract": {
          "transient": {
            "deleting": false
          }
        }
      }
    },
    {
      "cell_type": "code",
      "source": [
        "token_credential = DefaultAzureCredential()\r\n",
        "\r\n",
        "schema_registry_client = SchemaRegistryClient(SCHEMAREGISTRY_FULLY_QUALIFIED_NAMESPACE, token_credential)\r\n",
        "jsonFormatSchema = schema_registry_client.get_schema(\"71e03f67bd694b30b6dad6dae1fb8d86\") \r\n",
        "print(jsonFormatSchema)\r\n",
        "\r\n",
        "# bytes_payload = b\"\".join(b for b in event.body)\r\n",
        "# deserialized_data = avro_serializer.deserialize(bytes_payload)"
      ],
      "outputs": [
        {
          "output_type": "display_data",
          "data": {
            "application/vnd.livy.statement-meta+json": {
              "spark_pool": "sparkpool3",
              "session_id": "16",
              "statement_id": 5,
              "state": "finished",
              "livy_statement_state": "available",
              "queued_time": "2022-10-14T20:18:10.4976796Z",
              "session_start_time": null,
              "execution_start_time": "2022-10-14T20:19:08.7294809Z",
              "execution_finish_time": "2022-10-14T20:19:10.6196292Z",
              "spark_jobs": null
            },
            "text/plain": "StatementMeta(sparkpool3, 16, 5, Finished, Available)"
          },
          "metadata": {}
        },
        {
          "output_type": "stream",
          "name": "stdout",
          "text": [
            "Schema(definition={\"namespace\":\"example.avro\",\"type\":\"record\",\"name\":\"User\",\"fields\":[{\"name\":\"name\",\"type\":\"string\"},{\"name\":\"favorite_number\",\"type\":[\"int\",\"null\"]},{\"name\":\"favorite_color\",\"type\":[\"string\",\"null\"]}]}, properties=SchemaProperties(id=71e03f67bd694b30b6dad6dae1fb8d86, format=Avro, group_name=tranxs, name=example.avro.User, version=1))\n"
          ]
        }
      ],
      "execution_count": 5,
      "metadata": {
        "jupyter": {
          "source_hidden": false,
          "outputs_hidden": false
        },
        "nteract": {
          "transient": {
            "deleting": false
          }
        }
      }
    },
    {
      "cell_type": "markdown",
      "source": [
        "## Read streaming data from Event Hubs"
      ],
      "metadata": {
        "nteract": {
          "transient": {
            "deleting": false
          }
        }
      }
    },
    {
      "cell_type": "code",
      "source": [
        "# Simple batch query\r\n",
        "df = spark.readStream.format(\"eventhubs\").options(**ehConf).load()\r\n",
        "\r\n",
        "# df = df.outputMode(\"append\").format(\"console\").start().awaitTermination()\r\n",
        "df.printSchema()"
      ],
      "outputs": [
        {
          "output_type": "display_data",
          "data": {
            "application/vnd.livy.statement-meta+json": {
              "spark_pool": "sparkpool3",
              "session_id": "16",
              "statement_id": 6,
              "state": "finished",
              "livy_statement_state": "available",
              "queued_time": "2022-10-14T20:18:10.4999463Z",
              "session_start_time": null,
              "execution_start_time": "2022-10-14T20:19:10.7729866Z",
              "execution_finish_time": "2022-10-14T20:19:12.037346Z",
              "spark_jobs": null
            },
            "text/plain": "StatementMeta(sparkpool3, 16, 6, Finished, Available)"
          },
          "metadata": {}
        },
        {
          "output_type": "stream",
          "name": "stdout",
          "text": [
            "root\n |-- body: binary (nullable = true)\n |-- partition: string (nullable = true)\n |-- offset: string (nullable = true)\n |-- sequenceNumber: long (nullable = true)\n |-- enqueuedTime: timestamp (nullable = true)\n |-- publisher: string (nullable = true)\n |-- partitionKey: string (nullable = true)\n |-- properties: map (nullable = true)\n |    |-- key: string\n |    |-- value: string (valueContainsNull = true)\n |-- systemProperties: map (nullable = true)\n |    |-- key: string\n |    |-- value: string (valueContainsNull = true)\n\n"
          ]
        }
      ],
      "execution_count": 6,
      "metadata": {}
    },
    {
      "cell_type": "markdown",
      "source": [
        "## Write streaming data to ADLS as Parquet"
      ],
      "metadata": {
        "nteract": {
          "transient": {
            "deleting": false
          }
        }
      }
    },
    {
      "cell_type": "code",
      "source": [
        "# Save stream as parquet\r\n",
        "ds1 = df.writeStream.format(\"parquet\")\\\r\n",
        "    .option(\"path\", \"abfss://dev-synapse@hyundevsynapsestorage.dfs.core.windows.net/streaming\")\\\r\n",
        "    .option(\"checkpointLocation\", \"abfss://dev-synapse@hyundevsynapsestorage.dfs.core.windows.net/streaming_checkpoint\")\\\r\n",
        "    .trigger(processingTime='10 seconds')\\\r\n",
        "    .start()\r\n",
        "\r\n",
        "## The result wont be seen in the output of this cell\r\n",
        "## \r\n",
        "ds2 = df.select(\"body\").writeStream.outputMode(\"append\").format(\"console\").start()#.awaitTermination()\r\n",
        "\r\n",
        "# ds.start().awaitTermination()\r\n",
        "#.writeStream.outputMode(\"append\").format(\"console\").start().awaitTermination()\r\n"
      ],
      "outputs": [
        {
          "output_type": "display_data",
          "data": {
            "application/vnd.livy.statement-meta+json": {
              "spark_pool": "sparkpool3",
              "session_id": "16",
              "statement_id": 7,
              "state": "finished",
              "livy_statement_state": "available",
              "queued_time": "2022-10-14T20:18:10.5028245Z",
              "session_start_time": null,
              "execution_start_time": "2022-10-14T20:19:12.1635031Z",
              "execution_finish_time": "2022-10-14T20:19:18.1825655Z",
              "spark_jobs": null
            },
            "text/plain": "StatementMeta(sparkpool3, 16, 7, Finished, Available)"
          },
          "metadata": {}
        }
      ],
      "execution_count": 7,
      "metadata": {
        "jupyter": {
          "source_hidden": false,
          "outputs_hidden": false
        },
        "nteract": {
          "transient": {
            "deleting": false
          }
        }
      }
    },
    {
      "cell_type": "code",
      "source": [
        "print(ds1.status)\r\n",
        "print(ds2.status)"
      ],
      "outputs": [
        {
          "output_type": "display_data",
          "data": {
            "application/vnd.livy.statement-meta+json": {
              "spark_pool": "sparkpool3",
              "session_id": "16",
              "statement_id": 8,
              "state": "finished",
              "livy_statement_state": "available",
              "queued_time": "2022-10-14T20:18:10.506099Z",
              "session_start_time": null,
              "execution_start_time": "2022-10-14T20:19:18.3104781Z",
              "execution_finish_time": "2022-10-14T20:19:18.6726846Z",
              "spark_jobs": null
            },
            "text/plain": "StatementMeta(sparkpool3, 16, 8, Finished, Available)"
          },
          "metadata": {}
        },
        {
          "output_type": "stream",
          "name": "stdout",
          "text": [
            "{'message': 'Processing new data', 'isDataAvailable': True, 'isTriggerActive': True}\n{'message': 'Writing offsets to log', 'isDataAvailable': False, 'isTriggerActive': True}\n"
          ]
        }
      ],
      "execution_count": 8,
      "metadata": {
        "jupyter": {
          "source_hidden": false,
          "outputs_hidden": false
        },
        "nteract": {
          "transient": {
            "deleting": false
          }
        }
      }
    },
    {
      "cell_type": "code",
      "source": [
        "print(ds1.stop())\r\n",
        "print(ds2.stop())"
      ],
      "outputs": [
        {
          "output_type": "display_data",
          "data": {
            "application/vnd.livy.statement-meta+json": {
              "spark_pool": "sparkpool3",
              "session_id": "16",
              "statement_id": 9,
              "state": "finished",
              "livy_statement_state": "available",
              "queued_time": "2022-10-14T20:18:10.5089378Z",
              "session_start_time": null,
              "execution_start_time": "2022-10-14T20:19:18.7972801Z",
              "execution_finish_time": "2022-10-14T20:19:20.6917527Z",
              "spark_jobs": null
            },
            "text/plain": "StatementMeta(sparkpool3, 16, 9, Finished, Available)"
          },
          "metadata": {}
        },
        {
          "output_type": "stream",
          "name": "stdout",
          "text": [
            "None\nNone\n"
          ]
        }
      ],
      "execution_count": 9,
      "metadata": {
        "jupyter": {
          "source_hidden": false,
          "outputs_hidden": false
        },
        "nteract": {
          "transient": {
            "deleting": false
          }
        }
      }
    },
    {
      "cell_type": "code",
      "source": [
        "filedf = spark.read.load('abfss://dev-synapse@hyundevsynapsestorage.dfs.core.windows.net/streaming/*.parquet', format='parquet')\r\n",
        "print(filedf.count())"
      ],
      "outputs": [
        {
          "output_type": "display_data",
          "data": {
            "application/vnd.livy.statement-meta+json": {
              "spark_pool": "sparkpool3",
              "session_id": "16",
              "statement_id": 10,
              "state": "finished",
              "livy_statement_state": "available",
              "queued_time": "2022-10-14T20:18:10.5109156Z",
              "session_start_time": null,
              "execution_start_time": "2022-10-14T20:19:20.8919065Z",
              "execution_finish_time": "2022-10-14T20:19:35.9842804Z",
              "spark_jobs": null
            },
            "text/plain": "StatementMeta(sparkpool3, 16, 10, Finished, Available)"
          },
          "metadata": {}
        },
        {
          "output_type": "stream",
          "name": "stdout",
          "text": [
            "110\n"
          ]
        }
      ],
      "execution_count": 10,
      "metadata": {
        "jupyter": {
          "source_hidden": false,
          "outputs_hidden": false
        },
        "nteract": {
          "transient": {
            "deleting": false
          }
        },
        "collapsed": false
      }
    },
    {
      "cell_type": "markdown",
      "source": [
        "## The messages are saved\r\n",
        "\r\n",
        "The column body contains the unreadable raw data"
      ],
      "metadata": {
        "nteract": {
          "transient": {
            "deleting": false
          }
        }
      }
    },
    {
      "cell_type": "code",
      "source": [
        "filedf.show()"
      ],
      "outputs": [
        {
          "output_type": "display_data",
          "data": {
            "application/vnd.livy.statement-meta+json": {
              "spark_pool": "sparkpool3",
              "session_id": "16",
              "statement_id": 11,
              "state": "finished",
              "livy_statement_state": "available",
              "queued_time": "2022-10-14T20:18:10.5165948Z",
              "session_start_time": null,
              "execution_start_time": "2022-10-14T20:19:36.1134419Z",
              "execution_finish_time": "2022-10-14T20:19:38.1311926Z",
              "spark_jobs": null
            },
            "text/plain": "StatementMeta(sparkpool3, 16, 11, Finished, Available)"
          },
          "metadata": {}
        },
        {
          "output_type": "stream",
          "name": "stdout",
          "text": [
            "+--------------------+---------+------------+--------------+--------------------+---------+------------+----------+----------------+\n|                body|partition|      offset|sequenceNumber|        enqueuedTime|publisher|partitionKey|properties|systemProperties|\n+--------------------+---------+------------+--------------+--------------------+---------+------------+----------+----------------+\n|[00 00 00 00 37 3...|        0|167504141520|       6072574|2022-10-13 20:34:...|     null|        null|        {}|              {}|\n|[00 00 00 00 37 3...|        0|167504141632|       6072575|2022-10-13 20:34:...|     null|        null|        {}|              {}|\n|[00 00 00 00 37 3...|        0|167504141744|       6072576|2022-10-13 20:34:...|     null|        null|        {}|              {}|\n|[00 00 00 00 37 3...|        0|167504141856|       6072577|2022-10-13 20:34:...|     null|        null|        {}|              {}|\n|[00 00 00 00 37 3...|        0|167504141968|       6072578|2022-10-13 20:35:...|     null|        null|        {}|              {}|\n|[00 00 00 00 37 3...|        0|167504142080|       6072579|2022-10-13 20:35:...|     null|        null|        {}|              {}|\n|[00 00 00 00 37 3...|        0|167504142192|       6072580|2022-10-13 20:35:...|     null|        null|        {}|              {}|\n|[00 00 00 00 37 3...|        0|167504142304|       6072581|2022-10-13 20:35:...|     null|        null|        {}|              {}|\n|[00 00 00 00 37 3...|        0|167504142416|       6072582|2022-10-13 20:35:...|     null|        null|        {}|              {}|\n|[00 00 00 00 37 3...|        0|167504142528|       6072583|2022-10-13 20:35:...|     null|        null|        {}|              {}|\n|[00 00 00 00 37 3...|        0|167504142640|       6072584|2022-10-13 20:35:...|     null|        null|        {}|              {}|\n|[00 00 00 00 37 3...|        0|167504142752|       6072585|2022-10-13 20:35:...|     null|        null|        {}|              {}|\n|[00 00 00 00 37 3...|        0|167504142864|       6072586|2022-10-13 20:35:...|     null|        null|        {}|              {}|\n|[00 00 00 00 37 3...|        0|167504142976|       6072587|2022-10-13 20:36:...|     null|        null|        {}|              {}|\n|[00 00 00 00 37 3...|        0|167504143088|       6072588|2022-10-13 20:36:...|     null|        null|        {}|              {}|\n|[00 00 00 00 37 3...|        0|167504143200|       6072589|2022-10-13 20:36:...|     null|        null|        {}|              {}|\n|[00 00 00 00 37 3...|        0|167504143312|       6072590|2022-10-13 20:36:...|     null|        null|        {}|              {}|\n|[00 00 00 00 37 3...|        0|167504143424|       6072591|2022-10-13 20:36:...|     null|        null|        {}|              {}|\n|[00 00 00 00 37 3...|        0|167504143536|       6072592|2022-10-13 20:36:...|     null|        null|        {}|              {}|\n|[00 00 00 00 37 3...|        0|167504143648|       6072593|2022-10-13 20:36:...|     null|        null|        {}|              {}|\n+--------------------+---------+------------+--------------+--------------------+---------+------------+----------+----------------+\nonly showing top 20 rows\n\n"
          ]
        }
      ],
      "execution_count": 11,
      "metadata": {
        "jupyter": {
          "source_hidden": false,
          "outputs_hidden": false
        },
        "nteract": {
          "transient": {
            "deleting": false
          }
        }
      }
    },
    {
      "cell_type": "markdown",
      "source": [
        "## Test UDF 1\r\n",
        "\r\n",
        "Use UDF to deserialize body in the file"
      ],
      "metadata": {
        "nteract": {
          "transient": {
            "deleting": false
          }
        }
      }
    },
    {
      "cell_type": "code",
      "source": [
        "filedf = filedf.withColumn(\"decodedBody\", deserializedBody_udf(filedf[\"body\"]))\r\n",
        "filedf.show()"
      ],
      "outputs": [
        {
          "output_type": "display_data",
          "data": {
            "application/vnd.livy.statement-meta+json": {
              "spark_pool": "sparkpool3",
              "session_id": "16",
              "statement_id": 12,
              "state": "finished",
              "livy_statement_state": "available",
              "queued_time": "2022-10-14T20:18:10.519381Z",
              "session_start_time": null,
              "execution_start_time": "2022-10-14T20:19:38.2568078Z",
              "execution_finish_time": "2022-10-14T20:21:22.7035247Z",
              "spark_jobs": null
            },
            "text/plain": "StatementMeta(sparkpool3, 16, 12, Finished, Available)"
          },
          "metadata": {}
        },
        {
          "output_type": "stream",
          "name": "stdout",
          "text": [
            "+--------------------+---------+------------+--------------+--------------------+---------+------------+----------+----------------+--------------------+\n|                body|partition|      offset|sequenceNumber|        enqueuedTime|publisher|partitionKey|properties|systemProperties|         decodedBody|\n+--------------------+---------+------------+--------------+--------------------+---------+------------+----------+----------------+--------------------+\n|[00 00 00 00 37 3...|        0|167504141520|       6072574|2022-10-13 20:34:...|     null|        null|        {}|              {}|{name=Bob, favori...|\n|[00 00 00 00 37 3...|        0|167504141632|       6072575|2022-10-13 20:34:...|     null|        null|        {}|              {}|{name=Bob, favori...|\n|[00 00 00 00 37 3...|        0|167504141744|       6072576|2022-10-13 20:34:...|     null|        null|        {}|              {}|{name=Bob, favori...|\n|[00 00 00 00 37 3...|        0|167504141856|       6072577|2022-10-13 20:34:...|     null|        null|        {}|              {}|{name=Bob, favori...|\n|[00 00 00 00 37 3...|        0|167504141968|       6072578|2022-10-13 20:35:...|     null|        null|        {}|              {}|{name=Bob, favori...|\n|[00 00 00 00 37 3...|        0|167504142080|       6072579|2022-10-13 20:35:...|     null|        null|        {}|              {}|{name=Bob, favori...|\n|[00 00 00 00 37 3...|        0|167504142192|       6072580|2022-10-13 20:35:...|     null|        null|        {}|              {}|{name=Bob, favori...|\n|[00 00 00 00 37 3...|        0|167504142304|       6072581|2022-10-13 20:35:...|     null|        null|        {}|              {}|{name=Bob, favori...|\n|[00 00 00 00 37 3...|        0|167504142416|       6072582|2022-10-13 20:35:...|     null|        null|        {}|              {}|{name=Bob, favori...|\n|[00 00 00 00 37 3...|        0|167504142528|       6072583|2022-10-13 20:35:...|     null|        null|        {}|              {}|{name=Bob, favori...|\n|[00 00 00 00 37 3...|        0|167504142640|       6072584|2022-10-13 20:35:...|     null|        null|        {}|              {}|{name=Bob, favori...|\n|[00 00 00 00 37 3...|        0|167504142752|       6072585|2022-10-13 20:35:...|     null|        null|        {}|              {}|{name=Bob, favori...|\n|[00 00 00 00 37 3...|        0|167504142864|       6072586|2022-10-13 20:35:...|     null|        null|        {}|              {}|{name=Bob, favori...|\n|[00 00 00 00 37 3...|        0|167504142976|       6072587|2022-10-13 20:36:...|     null|        null|        {}|              {}|{name=Bob, favori...|\n|[00 00 00 00 37 3...|        0|167504143088|       6072588|2022-10-13 20:36:...|     null|        null|        {}|              {}|{name=Bob, favori...|\n|[00 00 00 00 37 3...|        0|167504143200|       6072589|2022-10-13 20:36:...|     null|        null|        {}|              {}|{name=Bob, favori...|\n|[00 00 00 00 37 3...|        0|167504143312|       6072590|2022-10-13 20:36:...|     null|        null|        {}|              {}|{name=Bob, favori...|\n|[00 00 00 00 37 3...|        0|167504143424|       6072591|2022-10-13 20:36:...|     null|        null|        {}|              {}|{name=Bob, favori...|\n|[00 00 00 00 37 3...|        0|167504143536|       6072592|2022-10-13 20:36:...|     null|        null|        {}|              {}|{name=Bob, favori...|\n|[00 00 00 00 37 3...|        0|167504143648|       6072593|2022-10-13 20:36:...|     null|        null|        {}|              {}|{name=Bob, favori...|\n+--------------------+---------+------------+--------------+--------------------+---------+------------+----------+----------------+--------------------+\nonly showing top 20 rows\n\n"
          ]
        }
      ],
      "execution_count": 12,
      "metadata": {
        "jupyter": {
          "source_hidden": false,
          "outputs_hidden": false
        },
        "nteract": {
          "transient": {
            "deleting": false
          }
        }
      }
    },
    {
      "cell_type": "markdown",
      "source": [
        "## Test 2. Use udf before wright data in ADLS\r\n",
        "\r\n",
        "In stread of dederiailze body reading data that saved in ADLS, we can try to deserialize body right before written in ADLS"
      ],
      "metadata": {
        "nteract": {
          "transient": {
            "deleting": false
          }
        }
      }
    },
    {
      "cell_type": "code",
      "source": [
        "# see result in the console\r\n",
        "# output = df.select(\"value\")\r\n",
        "# output.printSchema()\r\n",
        "\r\n",
        "# df.writeStream.outputMode(\"append\").format(\"concole\").option(\"truncate\", False).start().awaitTermination()"
      ],
      "outputs": [
        {
          "output_type": "display_data",
          "data": {
            "application/vnd.livy.statement-meta+json": {
              "spark_pool": "sparkpool3",
              "session_id": "16",
              "statement_id": 13,
              "state": "finished",
              "livy_statement_state": "available",
              "queued_time": "2022-10-14T20:18:10.5218308Z",
              "session_start_time": null,
              "execution_start_time": "2022-10-14T20:21:22.8593753Z",
              "execution_finish_time": "2022-10-14T20:21:23.0628193Z",
              "spark_jobs": null
            },
            "text/plain": "StatementMeta(sparkpool3, 16, 13, Finished, Available)"
          },
          "metadata": {}
        }
      ],
      "execution_count": 13,
      "metadata": {
        "jupyter": {
          "source_hidden": false,
          "outputs_hidden": false
        },
        "nteract": {
          "transient": {
            "deleting": false
          }
        }
      }
    },
    {
      "cell_type": "code",
      "source": [
        "# ds3 = df.select(\"body\")#writeStream.outputMode(\"append\").format(\"console\").start().awaitTermination(10)\r\n",
        "# ds3 = ds3.withColumn(\"decodedBody\", deserializedBody_udf(ds3[\"body\"]))\r\n",
        "# ds3.writeStream.outputMode(\"append\").format(\"console\").start().awaitTermination(300)"
      ],
      "outputs": [
        {
          "output_type": "display_data",
          "data": {
            "application/vnd.livy.statement-meta+json": {
              "spark_pool": "sparkpool3",
              "session_id": "16",
              "statement_id": 14,
              "state": "finished",
              "livy_statement_state": "available",
              "queued_time": "2022-10-14T20:18:10.5243679Z",
              "session_start_time": null,
              "execution_start_time": "2022-10-14T20:21:23.1992172Z",
              "execution_finish_time": "2022-10-14T20:21:23.3725686Z",
              "spark_jobs": null
            },
            "text/plain": "StatementMeta(sparkpool3, 16, 14, Finished, Available)"
          },
          "metadata": {}
        }
      ],
      "execution_count": 14,
      "metadata": {
        "jupyter": {
          "source_hidden": false,
          "outputs_hidden": false
        },
        "nteract": {
          "transient": {
            "deleting": false
          }
        }
      }
    },
    {
      "cell_type": "markdown",
      "source": [
        "Use `deserializeBody_udf` to deserialize the body and save the result as Parquet"
      ],
      "metadata": {
        "nteract": {
          "transient": {
            "deleting": false
          }
        }
      }
    },
    {
      "cell_type": "code",
      "source": [
        "ds4 = df.withColumn(\"decodedBody\", deserializedBody_udf(df[\"body\"])).writeStream.format(\"parquet\")\\\r\n",
        "    .option(\"path\", \"abfss://dev-synapse@hyundevsynapsestorage.dfs.core.windows.net/streamingAfterdecode\")\\\r\n",
        "    .option(\"checkpointLocation\", \"abfss://dev-synapse@hyundevsynapsestorage.dfs.core.windows.net/streamingAfterdecode_checkpoint\")\\\r\n",
        "    .start()\r\n",
        "    # .trigger(processingTime='10 seconds')\\\r\n",
        "    # .start()\r\n"
      ],
      "outputs": [
        {
          "output_type": "display_data",
          "data": {
            "application/vnd.livy.statement-meta+json": {
              "spark_pool": "sparkpool3",
              "session_id": "16",
              "statement_id": 15,
              "state": "finished",
              "livy_statement_state": "available",
              "queued_time": "2022-10-14T20:18:10.526894Z",
              "session_start_time": null,
              "execution_start_time": "2022-10-14T20:21:23.5056054Z",
              "execution_finish_time": "2022-10-14T20:21:24.0433924Z",
              "spark_jobs": null
            },
            "text/plain": "StatementMeta(sparkpool3, 16, 15, Finished, Available)"
          },
          "metadata": {}
        }
      ],
      "execution_count": 15,
      "metadata": {
        "jupyter": {
          "source_hidden": false,
          "outputs_hidden": false
        },
        "nteract": {
          "transient": {
            "deleting": false
          }
        }
      }
    },
    {
      "cell_type": "code",
      "source": [
        "print(ds4.status)"
      ],
      "outputs": [
        {
          "output_type": "display_data",
          "data": {
            "application/vnd.livy.statement-meta+json": {
              "spark_pool": "sparkpool3",
              "session_id": "16",
              "statement_id": 16,
              "state": "finished",
              "livy_statement_state": "available",
              "queued_time": "2022-10-14T20:18:10.5289162Z",
              "session_start_time": null,
              "execution_start_time": "2022-10-14T20:21:24.186762Z",
              "execution_finish_time": "2022-10-14T20:21:24.3562253Z",
              "spark_jobs": null
            },
            "text/plain": "StatementMeta(sparkpool3, 16, 16, Finished, Available)"
          },
          "metadata": {}
        },
        {
          "output_type": "stream",
          "name": "stdout",
          "text": [
            "{'message': 'Initializing sources', 'isDataAvailable': False, 'isTriggerActive': True}\n"
          ]
        }
      ],
      "execution_count": 16,
      "metadata": {
        "jupyter": {
          "source_hidden": false,
          "outputs_hidden": false
        },
        "nteract": {
          "transient": {
            "deleting": false
          }
        }
      }
    },
    {
      "cell_type": "markdown",
      "source": [
        "### See the result"
      ],
      "metadata": {
        "nteract": {
          "transient": {
            "deleting": false
          }
        }
      }
    },
    {
      "cell_type": "code",
      "source": [
        "afterDecodedf = spark.read.load('abfss://dev-synapse@hyundevsynapsestorage.dfs.core.windows.net/streamingAfterdecode/*.parquet', format='parquet')\r\n",
        "print(afterDecodedf.count())"
      ],
      "outputs": [
        {
          "output_type": "display_data",
          "data": {
            "application/vnd.livy.statement-meta+json": {
              "spark_pool": "sparkpool3",
              "session_id": "16",
              "statement_id": 17,
              "state": "finished",
              "livy_statement_state": "available",
              "queued_time": "2022-10-14T20:18:10.5311834Z",
              "session_start_time": null,
              "execution_start_time": "2022-10-14T20:21:24.4836693Z",
              "execution_finish_time": "2022-10-14T20:21:28.6377736Z",
              "spark_jobs": null
            },
            "text/plain": "StatementMeta(sparkpool3, 16, 17, Finished, Available)"
          },
          "metadata": {}
        },
        {
          "output_type": "stream",
          "name": "stdout",
          "text": [
            "98\n"
          ]
        }
      ],
      "execution_count": 17,
      "metadata": {
        "jupyter": {
          "source_hidden": false,
          "outputs_hidden": false
        },
        "nteract": {
          "transient": {
            "deleting": false
          }
        }
      }
    },
    {
      "cell_type": "code",
      "source": [
        "afterDecodedf.count()"
      ],
      "outputs": [
        {
          "output_type": "display_data",
          "data": {
            "application/vnd.livy.statement-meta+json": {
              "spark_pool": "sparkpool3",
              "session_id": "16",
              "statement_id": 18,
              "state": "finished",
              "livy_statement_state": "available",
              "queued_time": "2022-10-14T20:18:10.5341542Z",
              "session_start_time": null,
              "execution_start_time": "2022-10-14T20:21:28.7940643Z",
              "execution_finish_time": "2022-10-14T20:21:30.0780947Z",
              "spark_jobs": null
            },
            "text/plain": "StatementMeta(sparkpool3, 16, 18, Finished, Available)"
          },
          "metadata": {}
        },
        {
          "output_type": "execute_result",
          "execution_count": 58,
          "data": {
            "text/plain": "98"
          },
          "metadata": {}
        }
      ],
      "execution_count": 18,
      "metadata": {
        "jupyter": {
          "source_hidden": false,
          "outputs_hidden": false
        },
        "nteract": {
          "transient": {
            "deleting": false
          }
        }
      }
    },
    {
      "cell_type": "code",
      "source": [
        "afterDecodedf.select(\"body\", \"decodedBody\").show()"
      ],
      "outputs": [
        {
          "output_type": "display_data",
          "data": {
            "application/vnd.livy.statement-meta+json": {
              "spark_pool": "sparkpool3",
              "session_id": "16",
              "statement_id": 19,
              "state": "finished",
              "livy_statement_state": "available",
              "queued_time": "2022-10-14T20:18:10.5379484Z",
              "session_start_time": null,
              "execution_start_time": "2022-10-14T20:21:30.2156904Z",
              "execution_finish_time": "2022-10-14T20:21:33.2936802Z",
              "spark_jobs": null
            },
            "text/plain": "StatementMeta(sparkpool3, 16, 19, Finished, Available)"
          },
          "metadata": {}
        },
        {
          "output_type": "stream",
          "name": "stdout",
          "text": [
            "+--------------------+--------------------+\n|                body|         decodedBody|\n+--------------------+--------------------+\n|[00 00 00 00 37 3...|{name=Bob, favori...|\n|[00 00 00 00 37 3...|{name=Bob, favori...|\n|[00 00 00 00 37 3...|{name=Bob, favori...|\n|[00 00 00 00 37 3...|{name=Bob, favori...|\n|[00 00 00 00 37 3...|{name=Bob, favori...|\n|[00 00 00 00 37 3...|{name=Bob, favori...|\n|[00 00 00 00 37 3...|{name=Bob, favori...|\n|[00 00 00 00 37 3...|{name=Bob, favori...|\n|[00 00 00 00 37 3...|{name=Bob, favori...|\n|[00 00 00 00 37 3...|{name=Bob, favori...|\n|[00 00 00 00 37 3...|{name=Bob, favori...|\n|[00 00 00 00 37 3...|{name=Bob, favori...|\n|[00 00 00 00 37 3...|{name=Bob, favori...|\n|[00 00 00 00 37 3...|{name=Bob, favori...|\n|[00 00 00 00 37 3...|{name=Bob, favori...|\n|[00 00 00 00 37 3...|{name=Bob, favori...|\n|[00 00 00 00 37 3...|{name=Bob, favori...|\n|[00 00 00 00 37 3...|{name=Bob, favori...|\n|[00 00 00 00 37 3...|{name=Bob, favori...|\n|[00 00 00 00 37 3...|{name=Bob, favori...|\n+--------------------+--------------------+\nonly showing top 20 rows\n\n"
          ]
        }
      ],
      "execution_count": 19,
      "metadata": {
        "jupyter": {
          "source_hidden": false,
          "outputs_hidden": false
        },
        "nteract": {
          "transient": {
            "deleting": false
          }
        }
      }
    },
    {
      "cell_type": "code",
      "source": [
        "ds4.status"
      ],
      "outputs": [
        {
          "output_type": "display_data",
          "data": {
            "application/vnd.livy.statement-meta+json": {
              "spark_pool": "sparkpool3",
              "session_id": "16",
              "statement_id": 20,
              "state": "finished",
              "livy_statement_state": "available",
              "queued_time": "2022-10-14T20:18:10.5410916Z",
              "session_start_time": null,
              "execution_start_time": "2022-10-14T20:21:33.4657781Z",
              "execution_finish_time": "2022-10-14T20:21:33.6416238Z",
              "spark_jobs": null
            },
            "text/plain": "StatementMeta(sparkpool3, 16, 20, Finished, Available)"
          },
          "metadata": {}
        },
        {
          "output_type": "execute_result",
          "execution_count": 64,
          "data": {
            "text/plain": "{'message': 'Processing new data',\n 'isDataAvailable': True,\n 'isTriggerActive': True}"
          },
          "metadata": {}
        }
      ],
      "execution_count": 20,
      "metadata": {
        "jupyter": {
          "source_hidden": false,
          "outputs_hidden": false
        },
        "nteract": {
          "transient": {
            "deleting": false
          }
        }
      }
    },
    {
      "cell_type": "code",
      "source": [
        "ds4.stop()"
      ],
      "outputs": [
        {
          "output_type": "display_data",
          "data": {
            "application/vnd.livy.statement-meta+json": {
              "spark_pool": "sparkpool3",
              "session_id": "16",
              "statement_id": 21,
              "state": "finished",
              "livy_statement_state": "available",
              "queued_time": "2022-10-14T20:18:10.5437449Z",
              "session_start_time": null,
              "execution_start_time": "2022-10-14T20:21:33.8198509Z",
              "execution_finish_time": "2022-10-14T20:21:33.9940484Z",
              "spark_jobs": null
            },
            "text/plain": "StatementMeta(sparkpool3, 16, 21, Finished, Available)"
          },
          "metadata": {}
        }
      ],
      "execution_count": 21,
      "metadata": {
        "jupyter": {
          "source_hidden": false,
          "outputs_hidden": false
        },
        "nteract": {
          "transient": {
            "deleting": false
          }
        }
      }
    },
    {
      "cell_type": "markdown",
      "source": [
        "## End of Notebook"
      ],
      "metadata": {
        "nteract": {
          "transient": {
            "deleting": false
          }
        }
      }
    }
  ],
  "metadata": {
    "kernelspec": {
      "name": "synapse_pyspark",
      "language": "Python",
      "display_name": "Synapse PySpark"
    },
    "language_info": {
      "name": "python"
    },
    "kernel_info": {
      "name": "synapse_pyspark"
    },
    "save_output": true,
    "synapse_widget": {
      "version": "0.1",
      "state": {}
    }
  },
  "nbformat": 4,
  "nbformat_minor": 2
}