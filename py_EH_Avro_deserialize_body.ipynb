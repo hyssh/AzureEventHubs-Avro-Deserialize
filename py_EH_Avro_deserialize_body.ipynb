{
  "cells": [
    {
      "cell_type": "markdown",
      "metadata": {
        "nteract": {
          "transient": {
            "deleting": false
          }
        }
      },
      "source": [
        "# Event Hub Avro desirialization\n",
        "\n",
        "hyssh@microsoft.com\n"
      ]
    },
    {
      "cell_type": "markdown",
      "metadata": {
        "nteract": {
          "transient": {
            "deleting": false
          }
        }
      },
      "source": [
        "## Reference code sample \n",
        "\n",
        "Ref 1: https://stackoverflow.com/questions/72417454/azure-schema-registry-spark-structured-streaming-kafka-eventhub-compatibilit\n",
        "\n",
        "Ref 2: https://spark.apache.org/docs/latest/sql-data-sources-avro.html#to_avro-and-from_avro"
      ]
    },
    {
      "cell_type": "code",
      "execution_count": 24,
      "metadata": {
        "jupyter": {
          "outputs_hidden": false,
          "source_hidden": false
        },
        "nteract": {
          "transient": {
            "deleting": false
          }
        }
      },
      "outputs": [
        {
          "data": {
            "application/vnd.livy.statement-meta+json": {
              "execution_finish_time": "2022-10-14T20:49:29.1459425Z",
              "execution_start_time": "2022-10-14T20:49:28.9493534Z",
              "livy_statement_state": "available",
              "queued_time": "2022-10-14T20:49:28.8048995Z",
              "session_id": "16",
              "session_start_time": null,
              "spark_jobs": null,
              "spark_pool": "sparkpool3",
              "state": "finished",
              "statement_id": 24
            },
            "text/plain": [
              "StatementMeta(sparkpool3, 16, 24, Finished, Available)"
            ]
          },
          "metadata": {},
          "output_type": "display_data"
        }
      ],
      "source": [
        "import os\n",
        "from azure.identity import DefaultAzureCredential\n",
        "from azure.schemaregistry import SchemaRegistryClient\n",
        "from azure.schemaregistry.serializer.avroserializer import AvroSerializer"
      ]
    },
    {
      "cell_type": "markdown",
      "metadata": {
        "nteract": {
          "transient": {
            "deleting": false
          }
        }
      },
      "source": [
        "## Get Environment variables\n",
        "\n",
        "Get the variables from [Spark configuration](https://learn.microsoft.com/en-us/azure/synapse-analytics/spark/apache-spark-azure-create-spark-configuration)"
      ]
    },
    {
      "cell_type": "code",
      "execution_count": 25,
      "metadata": {
        "jupyter": {
          "outputs_hidden": false,
          "source_hidden": false
        },
        "nteract": {
          "transient": {
            "deleting": false
          }
        }
      },
      "outputs": [
        {
          "data": {
            "application/vnd.livy.statement-meta+json": {
              "execution_finish_time": "2022-10-14T20:49:29.5247512Z",
              "execution_start_time": "2022-10-14T20:49:29.2955404Z",
              "livy_statement_state": "available",
              "queued_time": "2022-10-14T20:49:28.8878844Z",
              "session_id": "16",
              "session_start_time": null,
              "spark_jobs": null,
              "spark_pool": "sparkpool3",
              "state": "finished",
              "statement_id": 25
            },
            "text/plain": [
              "StatementMeta(sparkpool3, 16, 25, Finished, Available)"
            ]
          },
          "metadata": {},
          "output_type": "display_data"
        }
      ],
      "source": [
        "os.environ[\"AZURE_CLIENT_ID\"] = spark.sparkContext.environment.get(\"AZURE_CLIENT_ID\")\n",
        "os.environ[\"AZURE_TENANT_ID\"] = spark.sparkContext.environment.get(\"AZURE_TENANT_ID\")\n",
        "os.environ[\"AZURE_CLIENT_SECRET\"] = spark.sparkContext.environment.get(\"AZURE_CLIENT_SECRET\")\n",
        "os.environ[\"EVENT_HUB_CONN_STR\"] = spark.sparkContext.environment.get(\"EVENT_HUB_CONN_STR\")\n",
        "os.environ[\"EVENT_HUB_CONN_STR_ENT\"] = spark.sparkContext.environment.get(\"EVENT_HUB_CONN_STR_ENT\")\n",
        "os.environ[\"EVENT_HUB_CONN_STR_LISTEN\"] = spark.sparkContext.environment.get(\"EVENT_HUB_CONN_STR_LISTEN\")\n",
        "\n",
        "SCHEMAREGISTRY_FULLY_QUALIFIED_NAMESPACE = \"shin-eventhub-ns.servicebus.windows.net\"\n",
        "EVENTHUB_NAME=\"transactions\"\n"
      ]
    },
    {
      "cell_type": "markdown",
      "metadata": {
        "nteract": {
          "transient": {
            "deleting": false
          }
        }
      },
      "source": [
        "## Define connection string"
      ]
    },
    {
      "cell_type": "code",
      "execution_count": 26,
      "metadata": {
        "jupyter": {
          "outputs_hidden": false,
          "source_hidden": false
        },
        "nteract": {
          "transient": {
            "deleting": false
          }
        }
      },
      "outputs": [
        {
          "data": {
            "application/vnd.livy.statement-meta+json": {
              "execution_finish_time": "2022-10-14T20:49:29.8259755Z",
              "execution_start_time": "2022-10-14T20:49:29.6514505Z",
              "livy_statement_state": "available",
              "queued_time": "2022-10-14T20:49:29.0458578Z",
              "session_id": "16",
              "session_start_time": null,
              "spark_jobs": null,
              "spark_pool": "sparkpool3",
              "state": "finished",
              "statement_id": 26
            },
            "text/plain": [
              "StatementMeta(sparkpool3, 16, 26, Finished, Available)"
            ]
          },
          "metadata": {},
          "output_type": "display_data"
        }
      ],
      "source": [
        "ehConf = {}\n",
        "\n",
        "# For versions before 2.3.15, set the connection string without encryption\n",
        "# ehConf['eventhubs.connectionString'] = os.environ[\"EVENT_HUB_CONN_STR\"]\n",
        "\n",
        "# For 2.3.15 version and above, the configuration dictionary requires that connection string be encrypted.\n",
        "ehConf['eventhubs.connectionString'] = sc._jvm.org.apache.spark.eventhubs.EventHubsUtils.encrypt(os.environ[\"EVENT_HUB_CONN_STR_ENT\"])\n",
        "\n",
        "# Confrim the consumer group from Event Hub\n",
        "# https://learn.microsoft.com/en-us/azure/event-hubs/event-hubs-features#consumer-groups\n",
        "ehConf['eventhubs.consumerGroup'] = \"spark\""
      ]
    },
    {
      "cell_type": "markdown",
      "metadata": {
        "nteract": {
          "transient": {
            "deleting": false
          }
        }
      },
      "source": [
        "## Create UDF\n",
        "\n",
        "Create a UDF to desrialize Avro message using Avro Serializer that supported SchemaRegistry"
      ]
    },
    {
      "cell_type": "code",
      "execution_count": 27,
      "metadata": {
        "jupyter": {
          "outputs_hidden": false,
          "source_hidden": false
        },
        "nteract": {
          "transient": {
            "deleting": false
          }
        }
      },
      "outputs": [
        {
          "data": {
            "application/vnd.livy.statement-meta+json": {
              "execution_finish_time": "2022-10-14T20:49:30.1389675Z",
              "execution_start_time": "2022-10-14T20:49:29.9530045Z",
              "livy_statement_state": "available",
              "queued_time": "2022-10-14T20:49:29.1574376Z",
              "session_id": "16",
              "session_start_time": null,
              "spark_jobs": null,
              "spark_pool": "sparkpool3",
              "state": "finished",
              "statement_id": 27
            },
            "text/plain": [
              "StatementMeta(sparkpool3, 16, 27, Finished, Available)"
            ]
          },
          "metadata": {},
          "output_type": "display_data"
        }
      ],
      "source": [
        "from pyspark.sql.types import StringType\n",
        "from pyspark.sql.functions import udf\n",
        "\n",
        "def deserializeBody(encodedBody):    \n",
        "\n",
        "    token_credential = DefaultAzureCredential()\n",
        "\n",
        "    schema_registry_client = SchemaRegistryClient(\"shin-eventhub-ns.servicebus.windows.net\", token_credential)\n",
        "    avro_serializer = AvroSerializer(client=schema_registry_client, group_name=\"tranxs\")\n",
        "\n",
        "    return avro_serializer.deserialize(encodedBody)\n",
        "\n",
        "deserializedBody_udf = udf(deserializeBody, StringType())"
      ]
    },
    {
      "cell_type": "markdown",
      "metadata": {
        "nteract": {
          "transient": {
            "deleting": false
          }
        }
      },
      "source": [
        "## (Optional test) Get schema from schema SchemaRegistry\n"
      ]
    },
    {
      "cell_type": "code",
      "execution_count": 28,
      "metadata": {
        "jupyter": {
          "outputs_hidden": false,
          "source_hidden": false
        },
        "nteract": {
          "transient": {
            "deleting": false
          }
        }
      },
      "outputs": [
        {
          "data": {
            "application/vnd.livy.statement-meta+json": {
              "execution_finish_time": "2022-10-14T20:49:31.4393447Z",
              "execution_start_time": "2022-10-14T20:49:30.2551494Z",
              "livy_statement_state": "available",
              "queued_time": "2022-10-14T20:49:29.2293376Z",
              "session_id": "16",
              "session_start_time": null,
              "spark_jobs": null,
              "spark_pool": "sparkpool3",
              "state": "finished",
              "statement_id": 28
            },
            "text/plain": [
              "StatementMeta(sparkpool3, 16, 28, Finished, Available)"
            ]
          },
          "metadata": {},
          "output_type": "display_data"
        },
        {
          "name": "stdout",
          "output_type": "stream",
          "text": [
            "Schema(definition={\"namespace\":\"example.avro\",\"type\":\"record\",\"name\":\"User\",\"fields\":[{\"name\":\"name\",\"type\":\"string\"},{\"name\":\"favorite_number\",\"type\":[\"int\",\"null\"]},{\"name\":\"favorite_color\",\"type\":[\"string\",\"null\"]}]}, properties=SchemaProperties(id=71e03f67bd694b30b6dad6dae1fb8d86, format=Avro, group_name=tranxs, name=example.avro.User, version=1))\n"
          ]
        }
      ],
      "source": [
        "token_credential = DefaultAzureCredential()\n",
        "\n",
        "schema_registry_client = SchemaRegistryClient(SCHEMAREGISTRY_FULLY_QUALIFIED_NAMESPACE, token_credential)\n",
        "jsonFormatSchema = schema_registry_client.get_schema(\"71e03f67bd694b30b6dad6dae1fb8d86\") \n",
        "print(jsonFormatSchema)\n",
        "\n",
        "# bytes_payload = b\"\".join(b for b in event.body)\n",
        "# deserialized_data = avro_serializer.deserialize(bytes_payload)"
      ]
    },
    {
      "cell_type": "markdown",
      "metadata": {
        "nteract": {
          "transient": {
            "deleting": false
          }
        }
      },
      "source": [
        "## Read streaming data from Event Hubs"
      ]
    },
    {
      "cell_type": "code",
      "execution_count": 29,
      "metadata": {},
      "outputs": [
        {
          "data": {
            "application/vnd.livy.statement-meta+json": {
              "execution_finish_time": "2022-10-14T20:49:31.760545Z",
              "execution_start_time": "2022-10-14T20:49:31.5944181Z",
              "livy_statement_state": "available",
              "queued_time": "2022-10-14T20:49:29.4501452Z",
              "session_id": "16",
              "session_start_time": null,
              "spark_jobs": null,
              "spark_pool": "sparkpool3",
              "state": "finished",
              "statement_id": 29
            },
            "text/plain": [
              "StatementMeta(sparkpool3, 16, 29, Finished, Available)"
            ]
          },
          "metadata": {},
          "output_type": "display_data"
        },
        {
          "name": "stdout",
          "output_type": "stream",
          "text": [
            "root\n",
            " |-- body: binary (nullable = true)\n",
            " |-- partition: string (nullable = true)\n",
            " |-- offset: string (nullable = true)\n",
            " |-- sequenceNumber: long (nullable = true)\n",
            " |-- enqueuedTime: timestamp (nullable = true)\n",
            " |-- publisher: string (nullable = true)\n",
            " |-- partitionKey: string (nullable = true)\n",
            " |-- properties: map (nullable = true)\n",
            " |    |-- key: string\n",
            " |    |-- value: string (valueContainsNull = true)\n",
            " |-- systemProperties: map (nullable = true)\n",
            " |    |-- key: string\n",
            " |    |-- value: string (valueContainsNull = true)\n",
            "\n"
          ]
        }
      ],
      "source": [
        "# Simple batch query\n",
        "df = spark.readStream.format(\"eventhubs\").options(**ehConf).load()\n",
        "\n",
        "# df = df.outputMode(\"append\").format(\"console\").start().awaitTermination()\n",
        "df.printSchema()"
      ]
    },
    {
      "cell_type": "markdown",
      "metadata": {
        "nteract": {
          "transient": {
            "deleting": false
          }
        }
      },
      "source": [
        "## Write streaming data to ADLS as Parquet"
      ]
    },
    {
      "cell_type": "code",
      "execution_count": 30,
      "metadata": {
        "jupyter": {
          "outputs_hidden": false,
          "source_hidden": false
        },
        "nteract": {
          "transient": {
            "deleting": false
          }
        }
      },
      "outputs": [
        {
          "data": {
            "application/vnd.livy.statement-meta+json": {
              "execution_finish_time": "2022-10-14T20:49:33.0791798Z",
              "execution_start_time": "2022-10-14T20:49:31.9065103Z",
              "livy_statement_state": "available",
              "queued_time": "2022-10-14T20:49:29.5735246Z",
              "session_id": "16",
              "session_start_time": null,
              "spark_jobs": null,
              "spark_pool": "sparkpool3",
              "state": "finished",
              "statement_id": 30
            },
            "text/plain": [
              "StatementMeta(sparkpool3, 16, 30, Finished, Available)"
            ]
          },
          "metadata": {},
          "output_type": "display_data"
        }
      ],
      "source": [
        "# Save stream as parquet\n",
        "ds1 = df.writeStream.format(\"parquet\")\\\n",
        "    .option(\"path\", \"abfss://dev-synapse@hyundevsynapsestorage.dfs.core.windows.net/streaming\")\\\n",
        "    .option(\"checkpointLocation\", \"abfss://dev-synapse@hyundevsynapsestorage.dfs.core.windows.net/streaming_checkpoint\")\\\n",
        "    .trigger(processingTime='10 seconds')\\\n",
        "    .start()\n",
        "\n",
        "## The result wont be seen in the output of this cell\n",
        "## \n",
        "ds2 = df.select(\"body\").writeStream.outputMode(\"append\").format(\"console\").start()#.awaitTermination()\n",
        "\n",
        "# ds.start().awaitTermination()\n",
        "#.writeStream.outputMode(\"append\").format(\"console\").start().awaitTermination()\n"
      ]
    },
    {
      "cell_type": "code",
      "execution_count": 31,
      "metadata": {
        "jupyter": {
          "outputs_hidden": false,
          "source_hidden": false
        },
        "nteract": {
          "transient": {
            "deleting": false
          }
        }
      },
      "outputs": [
        {
          "data": {
            "application/vnd.livy.statement-meta+json": {
              "execution_finish_time": "2022-10-14T20:49:33.416298Z",
              "execution_start_time": "2022-10-14T20:49:33.2319282Z",
              "livy_statement_state": "available",
              "queued_time": "2022-10-14T20:49:29.6722301Z",
              "session_id": "16",
              "session_start_time": null,
              "spark_jobs": null,
              "spark_pool": "sparkpool3",
              "state": "finished",
              "statement_id": 31
            },
            "text/plain": [
              "StatementMeta(sparkpool3, 16, 31, Finished, Available)"
            ]
          },
          "metadata": {},
          "output_type": "display_data"
        },
        {
          "name": "stdout",
          "output_type": "stream",
          "text": [
            "{'message': 'Processing new data', 'isDataAvailable': True, 'isTriggerActive': True}\n",
            "{'message': 'Initializing sources', 'isDataAvailable': False, 'isTriggerActive': True}\n"
          ]
        }
      ],
      "source": [
        "print(ds1.status)\n",
        "print(ds2.status)"
      ]
    },
    {
      "cell_type": "code",
      "execution_count": 32,
      "metadata": {
        "jupyter": {
          "outputs_hidden": false,
          "source_hidden": false
        },
        "nteract": {
          "transient": {
            "deleting": false
          }
        }
      },
      "outputs": [
        {
          "data": {
            "application/vnd.livy.statement-meta+json": {
              "execution_finish_time": "2022-10-14T20:49:34.3776502Z",
              "execution_start_time": "2022-10-14T20:49:33.5437128Z",
              "livy_statement_state": "available",
              "queued_time": "2022-10-14T20:49:29.8801074Z",
              "session_id": "16",
              "session_start_time": null,
              "spark_jobs": null,
              "spark_pool": "sparkpool3",
              "state": "finished",
              "statement_id": 32
            },
            "text/plain": [
              "StatementMeta(sparkpool3, 16, 32, Finished, Available)"
            ]
          },
          "metadata": {},
          "output_type": "display_data"
        },
        {
          "name": "stdout",
          "output_type": "stream",
          "text": [
            "None\n",
            "None\n"
          ]
        }
      ],
      "source": [
        "print(ds1.stop())\n",
        "print(ds2.stop())"
      ]
    },
    {
      "cell_type": "code",
      "execution_count": 33,
      "metadata": {
        "collapsed": false,
        "jupyter": {
          "outputs_hidden": false,
          "source_hidden": false
        },
        "nteract": {
          "transient": {
            "deleting": false
          }
        }
      },
      "outputs": [
        {
          "data": {
            "application/vnd.livy.statement-meta+json": {
              "execution_finish_time": "2022-10-14T20:49:35.6241537Z",
              "execution_start_time": "2022-10-14T20:49:34.4918344Z",
              "livy_statement_state": "available",
              "queued_time": "2022-10-14T20:49:30.1439412Z",
              "session_id": "16",
              "session_start_time": null,
              "spark_jobs": null,
              "spark_pool": "sparkpool3",
              "state": "finished",
              "statement_id": 33
            },
            "text/plain": [
              "StatementMeta(sparkpool3, 16, 33, Finished, Available)"
            ]
          },
          "metadata": {},
          "output_type": "display_data"
        },
        {
          "name": "stdout",
          "output_type": "stream",
          "text": [
            "112\n"
          ]
        }
      ],
      "source": [
        "filedf = spark.read.load('abfss://dev-synapse@hyundevsynapsestorage.dfs.core.windows.net/streaming/*.parquet', format='parquet')\n",
        "print(filedf.count())"
      ]
    },
    {
      "cell_type": "markdown",
      "metadata": {
        "nteract": {
          "transient": {
            "deleting": false
          }
        }
      },
      "source": [
        "## The messages are saved\n",
        "\n",
        "The column body contains the unreadable raw data"
      ]
    },
    {
      "cell_type": "code",
      "execution_count": 34,
      "metadata": {
        "jupyter": {
          "outputs_hidden": false,
          "source_hidden": false
        },
        "nteract": {
          "transient": {
            "deleting": false
          }
        }
      },
      "outputs": [
        {
          "data": {
            "application/vnd.livy.statement-meta+json": {
              "execution_finish_time": "2022-10-14T20:49:36.3069838Z",
              "execution_start_time": "2022-10-14T20:49:35.7527441Z",
              "livy_statement_state": "available",
              "queued_time": "2022-10-14T20:49:30.262613Z",
              "session_id": "16",
              "session_start_time": null,
              "spark_jobs": null,
              "spark_pool": "sparkpool3",
              "state": "finished",
              "statement_id": 34
            },
            "text/plain": [
              "StatementMeta(sparkpool3, 16, 34, Finished, Available)"
            ]
          },
          "metadata": {},
          "output_type": "display_data"
        },
        {
          "name": "stdout",
          "output_type": "stream",
          "text": [
            "+--------------------+\n",
            "|                body|\n",
            "+--------------------+\n",
            "|[00 00 00 00 37 3...|\n",
            "|[00 00 00 00 37 3...|\n",
            "|[00 00 00 00 37 3...|\n",
            "|[00 00 00 00 37 3...|\n",
            "|[00 00 00 00 37 3...|\n",
            "|[00 00 00 00 37 3...|\n",
            "|[00 00 00 00 37 3...|\n",
            "|[00 00 00 00 37 3...|\n",
            "|[00 00 00 00 37 3...|\n",
            "|[00 00 00 00 37 3...|\n",
            "|[00 00 00 00 37 3...|\n",
            "|[00 00 00 00 37 3...|\n",
            "|[00 00 00 00 37 3...|\n",
            "|[00 00 00 00 37 3...|\n",
            "|[00 00 00 00 37 3...|\n",
            "|[00 00 00 00 37 3...|\n",
            "|[00 00 00 00 37 3...|\n",
            "|[00 00 00 00 37 3...|\n",
            "|[00 00 00 00 37 3...|\n",
            "|[00 00 00 00 37 3...|\n",
            "+--------------------+\n",
            "only showing top 20 rows\n",
            "\n"
          ]
        }
      ],
      "source": [
        "filedf.select(\"body\").show()"
      ]
    },
    {
      "cell_type": "markdown",
      "metadata": {
        "nteract": {
          "transient": {
            "deleting": false
          }
        }
      },
      "source": [
        "## Test UDF 1\n",
        "\n",
        "Use UDF to deserialize body in the file"
      ]
    },
    {
      "cell_type": "code",
      "execution_count": 35,
      "metadata": {
        "jupyter": {
          "outputs_hidden": false,
          "source_hidden": false
        },
        "nteract": {
          "transient": {
            "deleting": false
          }
        }
      },
      "outputs": [
        {
          "data": {
            "application/vnd.livy.statement-meta+json": {
              "execution_finish_time": "2022-10-14T20:51:16.6439144Z",
              "execution_start_time": "2022-10-14T20:49:36.4409463Z",
              "livy_statement_state": "available",
              "queued_time": "2022-10-14T20:49:30.4609676Z",
              "session_id": "16",
              "session_start_time": null,
              "spark_jobs": null,
              "spark_pool": "sparkpool3",
              "state": "finished",
              "statement_id": 35
            },
            "text/plain": [
              "StatementMeta(sparkpool3, 16, 35, Finished, Available)"
            ]
          },
          "metadata": {},
          "output_type": "display_data"
        },
        {
          "name": "stdout",
          "output_type": "stream",
          "text": [
            "+--------------------+--------------------+\n",
            "|                body|         decodedBody|\n",
            "+--------------------+--------------------+\n",
            "|[00 00 00 00 37 3...|{name=Bob, favori...|\n",
            "|[00 00 00 00 37 3...|{name=Bob, favori...|\n",
            "|[00 00 00 00 37 3...|{name=Bob, favori...|\n",
            "|[00 00 00 00 37 3...|{name=Bob, favori...|\n",
            "|[00 00 00 00 37 3...|{name=Bob, favori...|\n",
            "|[00 00 00 00 37 3...|{name=Bob, favori...|\n",
            "|[00 00 00 00 37 3...|{name=Bob, favori...|\n",
            "|[00 00 00 00 37 3...|{name=Bob, favori...|\n",
            "|[00 00 00 00 37 3...|{name=Bob, favori...|\n",
            "|[00 00 00 00 37 3...|{name=Bob, favori...|\n",
            "|[00 00 00 00 37 3...|{name=Bob, favori...|\n",
            "|[00 00 00 00 37 3...|{name=Bob, favori...|\n",
            "|[00 00 00 00 37 3...|{name=Bob, favori...|\n",
            "|[00 00 00 00 37 3...|{name=Bob, favori...|\n",
            "|[00 00 00 00 37 3...|{name=Bob, favori...|\n",
            "|[00 00 00 00 37 3...|{name=Bob, favori...|\n",
            "|[00 00 00 00 37 3...|{name=Bob, favori...|\n",
            "|[00 00 00 00 37 3...|{name=Bob, favori...|\n",
            "|[00 00 00 00 37 3...|{name=Bob, favori...|\n",
            "|[00 00 00 00 37 3...|{name=Bob, favori...|\n",
            "+--------------------+--------------------+\n",
            "only showing top 20 rows\n",
            "\n"
          ]
        }
      ],
      "source": [
        "filedf = filedf.withColumn(\"decodedBody\", deserializedBody_udf(filedf[\"body\"]))\n",
        "filedf.select(\"body\", \"decodedBody\").show()"
      ]
    },
    {
      "cell_type": "markdown",
      "metadata": {
        "nteract": {
          "transient": {
            "deleting": false
          }
        }
      },
      "source": [
        "## Test 2. Use udf before wright data in ADLS\n",
        "\n",
        "In stread of deserialize body reading data that saved in ADLS, we can try to deserialize body right before written in ADLS"
      ]
    },
    {
      "cell_type": "code",
      "execution_count": 36,
      "metadata": {
        "jupyter": {
          "outputs_hidden": false,
          "source_hidden": false
        },
        "nteract": {
          "transient": {
            "deleting": false
          }
        }
      },
      "outputs": [
        {
          "data": {
            "application/vnd.livy.statement-meta+json": {
              "execution_finish_time": "2022-10-14T20:51:16.9561596Z",
              "execution_start_time": "2022-10-14T20:51:16.7674981Z",
              "livy_statement_state": "available",
              "queued_time": "2022-10-14T20:49:30.6020176Z",
              "session_id": "16",
              "session_start_time": null,
              "spark_jobs": null,
              "spark_pool": "sparkpool3",
              "state": "finished",
              "statement_id": 36
            },
            "text/plain": [
              "StatementMeta(sparkpool3, 16, 36, Finished, Available)"
            ]
          },
          "metadata": {},
          "output_type": "display_data"
        }
      ],
      "source": [
        "# ds3 = df.select(\"body\")#writeStream.outputMode(\"append\").format(\"console\").start().awaitTermination(10)\n",
        "# ds3 = ds3.withColumn(\"decodedBody\", deserializedBody_udf(ds3[\"body\"]))\n",
        "# ds3.writeStream.outputMode(\"append\").format(\"console\").start().awaitTermination(300)"
      ]
    },
    {
      "cell_type": "markdown",
      "metadata": {
        "nteract": {
          "transient": {
            "deleting": false
          }
        }
      },
      "source": [
        "Use `deserializeBody_udf` to deserialize the body and save the result as Parquet"
      ]
    },
    {
      "cell_type": "code",
      "execution_count": 37,
      "metadata": {
        "jupyter": {
          "outputs_hidden": false,
          "source_hidden": false
        },
        "nteract": {
          "transient": {
            "deleting": false
          }
        }
      },
      "outputs": [
        {
          "data": {
            "application/vnd.livy.statement-meta+json": {
              "execution_finish_time": "2022-10-14T20:51:17.6521599Z",
              "execution_start_time": "2022-10-14T20:51:17.0919374Z",
              "livy_statement_state": "available",
              "queued_time": "2022-10-14T20:49:30.7018566Z",
              "session_id": "16",
              "session_start_time": null,
              "spark_jobs": null,
              "spark_pool": "sparkpool3",
              "state": "finished",
              "statement_id": 37
            },
            "text/plain": [
              "StatementMeta(sparkpool3, 16, 37, Finished, Available)"
            ]
          },
          "metadata": {},
          "output_type": "display_data"
        }
      ],
      "source": [
        "ds4 = df.withColumn(\"decodedBody\", deserializedBody_udf(df[\"body\"])).writeStream.format(\"parquet\")\\\n",
        "    .option(\"path\", \"abfss://dev-synapse@hyundevsynapsestorage.dfs.core.windows.net/streamingAfterdecode\")\\\n",
        "    .option(\"checkpointLocation\", \"abfss://dev-synapse@hyundevsynapsestorage.dfs.core.windows.net/streamingAfterdecode_checkpoint\")\\\n",
        "    .start()\n",
        "    # .trigger(processingTime='10 seconds')\\\n",
        "    # .start()\n"
      ]
    },
    {
      "cell_type": "code",
      "execution_count": 38,
      "metadata": {
        "jupyter": {
          "outputs_hidden": false,
          "source_hidden": false
        },
        "nteract": {
          "transient": {
            "deleting": false
          }
        }
      },
      "outputs": [
        {
          "data": {
            "application/vnd.livy.statement-meta+json": {
              "execution_finish_time": "2022-10-14T20:51:18.0570199Z",
              "execution_start_time": "2022-10-14T20:51:17.7801882Z",
              "livy_statement_state": "available",
              "queued_time": "2022-10-14T20:49:30.7801231Z",
              "session_id": "16",
              "session_start_time": null,
              "spark_jobs": null,
              "spark_pool": "sparkpool3",
              "state": "finished",
              "statement_id": 38
            },
            "text/plain": [
              "StatementMeta(sparkpool3, 16, 38, Finished, Available)"
            ]
          },
          "metadata": {},
          "output_type": "display_data"
        },
        {
          "name": "stdout",
          "output_type": "stream",
          "text": [
            "{'message': 'Initializing sources', 'isDataAvailable': False, 'isTriggerActive': True}\n"
          ]
        }
      ],
      "source": [
        "print(ds4.status)"
      ]
    },
    {
      "cell_type": "markdown",
      "metadata": {
        "nteract": {
          "transient": {
            "deleting": false
          }
        }
      },
      "source": [
        "### See the result"
      ]
    },
    {
      "cell_type": "code",
      "execution_count": 39,
      "metadata": {
        "jupyter": {
          "outputs_hidden": false,
          "source_hidden": false
        },
        "nteract": {
          "transient": {
            "deleting": false
          }
        }
      },
      "outputs": [
        {
          "data": {
            "application/vnd.livy.statement-meta+json": {
              "execution_finish_time": "2022-10-14T20:51:21.2115969Z",
              "execution_start_time": "2022-10-14T20:51:18.1854292Z",
              "livy_statement_state": "available",
              "queued_time": "2022-10-14T20:49:30.8550739Z",
              "session_id": "16",
              "session_start_time": null,
              "spark_jobs": null,
              "spark_pool": "sparkpool3",
              "state": "finished",
              "statement_id": 39
            },
            "text/plain": [
              "StatementMeta(sparkpool3, 16, 39, Finished, Available)"
            ]
          },
          "metadata": {},
          "output_type": "display_data"
        },
        {
          "name": "stdout",
          "output_type": "stream",
          "text": [
            "98\n"
          ]
        }
      ],
      "source": [
        "afterDecodedf = spark.read.load('abfss://dev-synapse@hyundevsynapsestorage.dfs.core.windows.net/streamingAfterdecode/*.parquet', format='parquet')\n",
        "print(afterDecodedf.count())"
      ]
    },
    {
      "cell_type": "code",
      "execution_count": 40,
      "metadata": {
        "jupyter": {
          "outputs_hidden": false,
          "source_hidden": false
        },
        "nteract": {
          "transient": {
            "deleting": false
          }
        }
      },
      "outputs": [
        {
          "data": {
            "application/vnd.livy.statement-meta+json": {
              "execution_finish_time": "2022-10-14T20:51:24.2506159Z",
              "execution_start_time": "2022-10-14T20:51:21.4079097Z",
              "livy_statement_state": "available",
              "queued_time": "2022-10-14T20:49:30.9270016Z",
              "session_id": "16",
              "session_start_time": null,
              "spark_jobs": null,
              "spark_pool": "sparkpool3",
              "state": "finished",
              "statement_id": 40
            },
            "text/plain": [
              "StatementMeta(sparkpool3, 16, 40, Finished, Available)"
            ]
          },
          "metadata": {},
          "output_type": "display_data"
        },
        {
          "data": {
            "text/plain": [
              "98"
            ]
          },
          "execution_count": 124,
          "metadata": {},
          "output_type": "execute_result"
        }
      ],
      "source": [
        "afterDecodedf.count()"
      ]
    },
    {
      "cell_type": "code",
      "execution_count": 41,
      "metadata": {
        "jupyter": {
          "outputs_hidden": false,
          "source_hidden": false
        },
        "nteract": {
          "transient": {
            "deleting": false
          }
        }
      },
      "outputs": [
        {
          "data": {
            "application/vnd.livy.statement-meta+json": {
              "execution_finish_time": "2022-10-14T20:51:27.2994116Z",
              "execution_start_time": "2022-10-14T20:51:24.4594106Z",
              "livy_statement_state": "available",
              "queued_time": "2022-10-14T20:49:30.9990789Z",
              "session_id": "16",
              "session_start_time": null,
              "spark_jobs": null,
              "spark_pool": "sparkpool3",
              "state": "finished",
              "statement_id": 41
            },
            "text/plain": [
              "StatementMeta(sparkpool3, 16, 41, Finished, Available)"
            ]
          },
          "metadata": {},
          "output_type": "display_data"
        },
        {
          "name": "stdout",
          "output_type": "stream",
          "text": [
            "+--------------------+--------------------+\n",
            "|                body|         decodedBody|\n",
            "+--------------------+--------------------+\n",
            "|[00 00 00 00 37 3...|{name=Bob, favori...|\n",
            "|[00 00 00 00 37 3...|{name=Bob, favori...|\n",
            "|[00 00 00 00 37 3...|{name=Bob, favori...|\n",
            "|[00 00 00 00 37 3...|{name=Bob, favori...|\n",
            "|[00 00 00 00 37 3...|{name=Bob, favori...|\n",
            "|[00 00 00 00 37 3...|{name=Bob, favori...|\n",
            "|[00 00 00 00 37 3...|{name=Bob, favori...|\n",
            "|[00 00 00 00 37 3...|{name=Bob, favori...|\n",
            "|[00 00 00 00 37 3...|{name=Bob, favori...|\n",
            "|[00 00 00 00 37 3...|{name=Bob, favori...|\n",
            "|[00 00 00 00 37 3...|{name=Bob, favori...|\n",
            "|[00 00 00 00 37 3...|{name=Bob, favori...|\n",
            "|[00 00 00 00 37 3...|{name=Bob, favori...|\n",
            "|[00 00 00 00 37 3...|{name=Bob, favori...|\n",
            "|[00 00 00 00 37 3...|{name=Bob, favori...|\n",
            "|[00 00 00 00 37 3...|{name=Bob, favori...|\n",
            "|[00 00 00 00 37 3...|{name=Bob, favori...|\n",
            "|[00 00 00 00 37 3...|{name=Bob, favori...|\n",
            "|[00 00 00 00 37 3...|{name=Bob, favori...|\n",
            "|[00 00 00 00 37 3...|{name=Bob, favori...|\n",
            "+--------------------+--------------------+\n",
            "only showing top 20 rows\n",
            "\n"
          ]
        }
      ],
      "source": [
        "afterDecodedf.select(\"body\", \"decodedBody\").show()"
      ]
    },
    {
      "cell_type": "code",
      "execution_count": 42,
      "metadata": {
        "jupyter": {
          "outputs_hidden": false,
          "source_hidden": false
        },
        "nteract": {
          "transient": {
            "deleting": false
          }
        }
      },
      "outputs": [
        {
          "data": {
            "application/vnd.livy.statement-meta+json": {
              "execution_finish_time": "2022-10-14T20:51:27.6108486Z",
              "execution_start_time": "2022-10-14T20:51:27.4348345Z",
              "livy_statement_state": "available",
              "queued_time": "2022-10-14T20:49:31.0840789Z",
              "session_id": "16",
              "session_start_time": null,
              "spark_jobs": null,
              "spark_pool": "sparkpool3",
              "state": "finished",
              "statement_id": 42
            },
            "text/plain": [
              "StatementMeta(sparkpool3, 16, 42, Finished, Available)"
            ]
          },
          "metadata": {},
          "output_type": "display_data"
        },
        {
          "data": {
            "text/plain": [
              "{'message': 'Processing new data',\n",
              " 'isDataAvailable': True,\n",
              " 'isTriggerActive': True}"
            ]
          },
          "execution_count": 130,
          "metadata": {},
          "output_type": "execute_result"
        }
      ],
      "source": [
        "ds4.status"
      ]
    },
    {
      "cell_type": "code",
      "execution_count": 43,
      "metadata": {
        "jupyter": {
          "outputs_hidden": false,
          "source_hidden": false
        },
        "nteract": {
          "transient": {
            "deleting": false
          }
        }
      },
      "outputs": [
        {
          "data": {
            "application/vnd.livy.statement-meta+json": {
              "execution_finish_time": "2022-10-14T20:51:27.9107617Z",
              "execution_start_time": "2022-10-14T20:51:27.7306561Z",
              "livy_statement_state": "available",
              "queued_time": "2022-10-14T20:49:31.1526678Z",
              "session_id": "16",
              "session_start_time": null,
              "spark_jobs": null,
              "spark_pool": "sparkpool3",
              "state": "finished",
              "statement_id": 43
            },
            "text/plain": [
              "StatementMeta(sparkpool3, 16, 43, Finished, Available)"
            ]
          },
          "metadata": {},
          "output_type": "display_data"
        }
      ],
      "source": [
        "ds4.stop()"
      ]
    },
    {
      "cell_type": "markdown",
      "metadata": {
        "nteract": {
          "transient": {
            "deleting": false
          }
        }
      },
      "source": [
        "## End of Notebook"
      ]
    }
  ],
  "metadata": {
    "kernel_info": {
      "name": "synapse_pyspark"
    },
    "kernelspec": {
      "display_name": "Python 3.8.13 ('brokers')",
      "language": "python",
      "name": "python3"
    },
    "language_info": {
      "name": "python",
      "version": "3.8.13"
    },
    "save_output": true,
    "synapse_widget": {
      "state": {},
      "version": "0.1"
    },
    "vscode": {
      "interpreter": {
        "hash": "8e6f87e713c949f64a062dbe4d235ebd9f8be156f010a3ad710e6f5d1597a777"
      }
    }
  },
  "nbformat": 4,
  "nbformat_minor": 2
}
